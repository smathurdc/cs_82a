{
 "cells": [
  {
   "cell_type": "markdown",
   "metadata": {},
   "source": [
    "Name: Sachin Mathur <br>\n",
    "Team Members: Jeff Winchell, Charlie Flanagan"
   ]
  },
  {
   "cell_type": "markdown",
   "metadata": {},
   "source": [
    "# Fruit Inspection Challenge\n",
    "\n",
    "## CSCI E82A\n",
    "\n",
    ">**Make sure** you include your name along with the name of your team and team members in the notebook you submit. \n",
    "\n",
    "## Introduction\n",
    "\n",
    "In a previous homework assignment you computed the utility of various approaches to fruit inspection using two unreliable sensors along with human inspection. This challenge exercise differs in from the homework assignment in the following ways:\n",
    "1. Most importantly, this is not a guided lab, but rather you are free to apply the methods of your choice\n",
    "2. The parameters for the CPDs must be estimated from data samples.\n",
    "3. There are a larger number of CPDs.\n",
    "4. You will perform a query on your graphical model.  "
   ]
  },
  {
   "cell_type": "markdown",
   "metadata": {},
   "source": [
    "###  Background\n",
    "\n",
    "Bob's Orchards is a premium seller of apples and pears. Bob's customers pay a substantial premium for superior fruit. To satisfy these customers, Bob's must ensure that the fruit delivered is correctly packed and perfectly ripe. \n",
    "\n",
    "Like many legacy industries requiring specialized human skills, Bob's is facing a talent problem. Many of the human inspectors who expertly check each piece of fruit shipped for ripeness are retiring. Management's attempts to recruit and train younger people to apprentice as fruit inspectors have been mixed. In fact, not only is it difficult to recruit people willing to train as inspectors but, it is believed that the newly trained inspectors are prone to errors. Therefore, it has become imperative to find some type of automated system which can reduce the workload on the diminishing number of human inspectors. To address this problem, Bob's has deployed technology from Robots R Us.\n",
    "\n",
    "The first robotic system to be deployed at Bob's uses a multi-sensor array to determine if the fruit being shipped is at the correct ripeness. There are two sensors, a vision system that examines the fruit for spots or damage, indicating the fruit is over ripe, and a smell sensor that determines if the fruit is not ripe enough. If either sensor indicates the fruit is bad it is sent to a human inspector. In addition customers may reject even perfect fruit for no apparent reason, whereas others seem perfectly happy with less than perfect fruit.   \n"
   ]
  },
  {
   "cell_type": "markdown",
   "metadata": {},
   "source": [
    "\n",
    "## Scenario \n",
    "\n",
    "In order to better understand the fruit inspection process and customer acceptance of the fruit, Bob's management has authorized the shipment of 1,000 randomly selected orders. All available inspection methods will be applied to each order. Further, a team of the most experienced inspectors will provide an absolute baseline on order quality. The orders will be shipped to customers regardless of the outcome of the inspections. \n",
    "\n",
    "Shipping orders regardless of inspection outcome is a significant departure from long-held beliefs and traditions at Bobs. However, the data collected provide a powerful source of information for improving Bob's overall customer satisfaction, which is highly valued by Bob's management.   \n",
    "\n",
    "Your goal, as the consulting team, is to determine which inspection methods and any other possible process improvement Bob's should apply to maximize customer satisfaction as measured by utility. You will use the data collected from the 1,000 orders to "
   ]
  },
  {
   "cell_type": "markdown",
   "metadata": {},
   "source": [
    "### Data description \n",
    "\n",
    "For the 1,000 orders in the test sample a number of attributes have been collected. These data are in the `fruit_data.csv` file. The columns in the data set are:\n",
    "1.  **weather:** indicates the weather conditions the day before the fruit is harvested; 0 = wet, 1 = dry. Prior information indicates that the statistics of weather are constant over the harvest period. \n",
    "2. **week:** indicates the week the fruit is harvested; 0 = week 1, 1 = week2. There is a two week harvest season for Bob's orchard where the fruit comes from. \n",
    "3. **good_bad** is the quality assigned to the fruit shipment by an independent inspection team of highly experienced inspectors. At least three inspectors has agreed on the fruit quality and these indicators are believed to have absolute accuracy. \n",
    "4. **smell_sensor:** are the indicators emitted by the smell fruit inspection sensor; 0 = bad, 1 = good.\n",
    "5. **visual_sensor:** are the indicators emitted by the visual fruit inspection sensor; 0 = bad, 1 = good.\n",
    "6. **inspector:** are the indicators determined by the single entry-level fruit inspectors; 0 = bad, 1 = good.\n",
    "7. **accepted:** indicates if the customer accepted the order as received, or complained and requested an adjustment; 0 = not accepted, 1 = accepted. "
   ]
  },
  {
   "cell_type": "markdown",
   "metadata": {},
   "source": [
    "### Bayesian Graph Representation\n",
    "\n",
    "A directed acyclic graph (DAG) representing the fruit quality process is shown in the diagram below.  \n",
    "\n",
    "<img src=\"FruitQualityGraph.JPG\" alt=\"Drawing\" style=\"width:800px; height:450px\"/>\n",
    "<center> **DAG fruit quality process**    \n",
    "Decision nodes are not shown for simplicity</center>\n",
    "\n",
    "The representation shown in the diagram illustrates the CDPs in a DAG. There are a number of utility nodes shown. Notice, that the multiple decision nodes are not shown.   \n",
    "\n",
    "There are two utility functions in this problem. The **utility of a human inspection** is -10.0. And the **utility of the satisfied and unsatisfied customers** is:\n",
    "\n",
    "|  | Satisfied | Not Satisfied |\n",
    "|----|----|----|\n",
    "|Utility | 20 | -40 |\n",
    "\n",
    "Notice that the DAG shows causality between the CDPs. **Consider how this causality is important in the representation of this problem**. "
   ]
  },
  {
   "cell_type": "code",
   "execution_count": null,
   "metadata": {},
   "outputs": [],
   "source": []
  },
  {
   "cell_type": "markdown",
   "metadata": {},
   "source": [
    "## Approach\n",
    "Use the raw data to compute CPDs. This can be calculated by using the raw data given in the table\n",
    "Data given:\n",
    "1. Week\n",
    "2. Weather\n",
    "3. Smell\n",
    "4. Visual\n",
    "5. Customer Acceptance\n",
    "6. Inspector Accuracy (a single inspector)\n",
    "7. Good_bad --- The quality derived by the 3 inspectors\n",
    "\n",
    "U2: Utility when there is no inspection given good/bad fruit\n",
    "U1: Cost associated with fruit that was not detected as either not-Week or not-Weather or both\n"
   ]
  },
  {
   "cell_type": "code",
   "execution_count": 1,
   "metadata": {},
   "outputs": [],
   "source": [
    "import numpy as np\n",
    "import numpy.random as nr\n",
    "import pandas as pd"
   ]
  },
  {
   "cell_type": "markdown",
   "metadata": {},
   "source": [
    "## Read Data"
   ]
  },
  {
   "cell_type": "code",
   "execution_count": 2,
   "metadata": {},
   "outputs": [
    {
     "data": {
      "text/html": [
       "<div>\n",
       "<style scoped>\n",
       "    .dataframe tbody tr th:only-of-type {\n",
       "        vertical-align: middle;\n",
       "    }\n",
       "\n",
       "    .dataframe tbody tr th {\n",
       "        vertical-align: top;\n",
       "    }\n",
       "\n",
       "    .dataframe thead th {\n",
       "        text-align: right;\n",
       "    }\n",
       "</style>\n",
       "<table border=\"1\" class=\"dataframe\">\n",
       "  <thead>\n",
       "    <tr style=\"text-align: right;\">\n",
       "      <th></th>\n",
       "      <th>weather</th>\n",
       "      <th>week</th>\n",
       "      <th>good_bad</th>\n",
       "      <th>smell_sensor</th>\n",
       "      <th>visual_sensor</th>\n",
       "      <th>inspector</th>\n",
       "      <th>accepted</th>\n",
       "    </tr>\n",
       "  </thead>\n",
       "  <tbody>\n",
       "    <tr>\n",
       "      <th>0</th>\n",
       "      <td>1</td>\n",
       "      <td>1</td>\n",
       "      <td>1</td>\n",
       "      <td>1</td>\n",
       "      <td>1</td>\n",
       "      <td>1</td>\n",
       "      <td>1</td>\n",
       "    </tr>\n",
       "    <tr>\n",
       "      <th>1</th>\n",
       "      <td>1</td>\n",
       "      <td>0</td>\n",
       "      <td>1</td>\n",
       "      <td>1</td>\n",
       "      <td>0</td>\n",
       "      <td>1</td>\n",
       "      <td>1</td>\n",
       "    </tr>\n",
       "    <tr>\n",
       "      <th>2</th>\n",
       "      <td>1</td>\n",
       "      <td>0</td>\n",
       "      <td>1</td>\n",
       "      <td>1</td>\n",
       "      <td>0</td>\n",
       "      <td>1</td>\n",
       "      <td>1</td>\n",
       "    </tr>\n",
       "    <tr>\n",
       "      <th>3</th>\n",
       "      <td>0</td>\n",
       "      <td>1</td>\n",
       "      <td>0</td>\n",
       "      <td>1</td>\n",
       "      <td>0</td>\n",
       "      <td>0</td>\n",
       "      <td>0</td>\n",
       "    </tr>\n",
       "    <tr>\n",
       "      <th>4</th>\n",
       "      <td>1</td>\n",
       "      <td>0</td>\n",
       "      <td>1</td>\n",
       "      <td>1</td>\n",
       "      <td>1</td>\n",
       "      <td>1</td>\n",
       "      <td>1</td>\n",
       "    </tr>\n",
       "  </tbody>\n",
       "</table>\n",
       "</div>"
      ],
      "text/plain": [
       "   weather  week  good_bad  smell_sensor  visual_sensor  inspector  accepted\n",
       "0        1     1         1             1              1          1         1\n",
       "1        1     0         1             1              0          1         1\n",
       "2        1     0         1             1              0          1         1\n",
       "3        0     1         0             1              0          0         0\n",
       "4        1     0         1             1              1          1         1"
      ]
     },
     "execution_count": 2,
     "metadata": {},
     "output_type": "execute_result"
    }
   ],
   "source": [
    "data = pd.read_csv(\"fruit_data.csv\")\n",
    "data.head()"
   ]
  },
  {
   "cell_type": "code",
   "execution_count": 3,
   "metadata": {},
   "outputs": [],
   "source": [
    "# calculation of fruit quality\n",
    "data['fruit_quality'] = np.where(((data['weather'] == 1) & (data['week'] == 1 ) & (data['good_bad'] == 1 )), 1, 0)\n",
    "\n",
    "# calculation of sensor_inspect node\n",
    "data['sensor_inspect'] = np.where(((data['smell_sensor'] == 1) & (data['visual_sensor'] == 1 ) & (data['fruit_quality'] == 1 )), 1, 0)\n",
    "\n",
    "# calculation of inspector accuracy\n",
    "data['inspector_accuracy'] = np.where(((data['inspector'] == data['good_bad'] )), 1, 0)\n",
    "\n",
    "# calculation of manual inspection\n",
    "data['manual_inspection'] = np.where(((data['fruit_quality'] == 0 )), 1, 0)\n",
    "\n",
    "# calculation of manual inspection acceptance\n",
    "data['manual_inspection_accept'] = np.where(((data['manual_inspection'] == 1 )), 1, 0)\n",
    "\n",
    "# calculation of no inspection acceptance\n",
    "data['no_inspection_accept'] = np.where(((data['fruit_quality'] == 1) & (data['accepted'] == 1 )), 1, 0)\n",
    "\n",
    "# calculation of sensor impact acceptance\n",
    "data['sensor_impact_accept'] = np.where(((data['sensor_inspect'] == 1) & (data['accepted'] == 1 )), 1, 0)\n",
    "\n",
    "# calculation of sensor manual inspection\n",
    "data['sensor_manual_inspect'] = np.where(((data['sensor_inspect'] == 0) & (data['inspector_accuracy'] == 0 )), 1, 0)\n",
    "\n",
    "# calculation of acceptance after manual inspection\n",
    "data['sensor_manual_inspect_accept'] = np.where(((data['sensor_manual_inspect'] == 1) & (data['accepted'] == 1 )), 1, 0)\n"
   ]
  },
  {
   "cell_type": "code",
   "execution_count": null,
   "metadata": {},
   "outputs": [],
   "source": []
  },
  {
   "cell_type": "code",
   "execution_count": 4,
   "metadata": {},
   "outputs": [
    {
     "name": "stdout",
     "output_type": "stream",
     "text": [
      "40\n",
      "48\n",
      "47\n",
      "27\n",
      "123\n",
      "126\n",
      "311\n",
      "278\n",
      "acccept_good_bad_matrix\n",
      "142\n",
      "37\n",
      "20\n",
      "801\n"
     ]
    }
   ],
   "source": [
    "#Fruit Quality\n",
    "print(np.where(((data['weather'] == 0) & (data['week'] == 0 ) & (data['good_bad'] == 0 )), 1, 0).sum())\n",
    "print(np.where(((data['weather'] == 0) & (data['week'] == 1 ) & (data['good_bad'] == 0 )), 1, 0).sum())\n",
    "print(np.where(((data['weather'] == 1) & (data['week'] == 0 ) & (data['good_bad'] == 0 )), 1, 0).sum())\n",
    "print(np.where(((data['weather'] == 1) & (data['week'] == 1 ) & (data['good_bad'] == 0 )), 1, 0).sum())\n",
    "print(np.where(((data['weather'] == 0) & (data['week'] == 0 ) & (data['good_bad'] == 1 )), 1, 0).sum())\n",
    "print(np.where(((data['weather'] == 0) & (data['week'] == 1 ) & (data['good_bad'] == 1 )), 1, 0).sum())\n",
    "print(np.where(((data['weather'] == 1) & (data['week'] == 0 ) & (data['good_bad'] == 1 )), 1, 0).sum())\n",
    "print(np.where(((data['weather'] == 1) & (data['week'] == 1 ) & (data['good_bad'] == 1 )), 1, 0).sum())\n",
    "\n",
    "#acccept_good_bad_matrix\n",
    "print(\"acccept_good_bad_matrix\")\n",
    "print(np.where(((data['accepted'] == 0) & (data['good_bad'] == 0 )), 1, 0).sum())\n",
    "print(np.where(((data['accepted'] == 0) & (data['good_bad'] == 1 )), 1, 0).sum())\n",
    "print(np.where(((data['accepted'] == 1) & (data['good_bad'] == 0 )), 1, 0).sum())\n",
    "print(np.where(((data['accepted'] == 1) & (data['good_bad'] == 1 )), 1, 0).sum())"
   ]
  },
  {
   "cell_type": "code",
   "execution_count": 14,
   "metadata": {},
   "outputs": [
    {
     "name": "stdout",
     "output_type": "stream",
     "text": [
      "        Accept  Not-Accept\n",
      "Good  0.955847    0.123457\n",
      "Bad   0.044153    0.876543\n",
      "16.42\n",
      "-7.160000000000001\n",
      "U2_utility_Cost 9.260000000000002\n"
     ]
    }
   ],
   "source": [
    "U2 = [20, -40]\n",
    "CustomerAccep_given_GoodQuality = 801/(801+37)\n",
    "CustomerAccep_given_BadQuality = 20/(20+142)\n",
    "CustomerNonAccep_given_GoodQuality = 37/(801+37)\n",
    "CustomerNonAccep_given_BadQuality = 142/(20+142)\n",
    "bad_quality = 0.162\n",
    "good_quality = 0.838\n",
    "quality = np.array([bad_quality, good_quality])\n",
    "\n",
    "Customer_quality = np.array([[CustomerAccep_given_GoodQuality, CustomerAccep_given_BadQuality],\n",
    "                            [CustomerNonAccep_given_GoodQuality, CustomerNonAccep_given_BadQuality]])\n",
    "col_names = ['Accept', 'Not-Accept']\n",
    "row_names = ['Good', 'Bad']\n",
    "print(pd.DataFrame(Customer_quality, columns = col_names, index = row_names))\n",
    "#print(np.transpose(quality))\n",
    "\n",
    "customerAccep_GoodQuality = 20 * (CustomerAccep_given_GoodQuality * good_quality + \\\n",
    "                                  CustomerAccep_given_BadQuality * bad_quality)\n",
    "\n",
    "customerAccep_BadQuality = -40 * (CustomerNonAccep_given_GoodQuality * good_quality + \\\n",
    "                                  CustomerNonAccep_given_BadQuality * bad_quality)\n",
    "\n",
    "print(customerAccep_GoodQuality)\n",
    "print(customerAccep_BadQuality)\n",
    "u2_utility_cost = customerAccep_GoodQuality + customerAccep_BadQuality\n",
    "print(\"U2_utility_Cost = \",u2_utility_cost)\n"
   ]
  },
  {
   "cell_type": "code",
   "execution_count": 20,
   "metadata": {},
   "outputs": [
    {
     "name": "stdout",
     "output_type": "stream",
     "text": [
      "0.19424460431654678\n",
      "0.8057553956834532\n",
      "[[0.1942446  0.08852459]\n",
      " [0.8057554  0.91147541]]\n",
      "[[0.03438129 0.01566885]\n",
      " [0.66313669 0.75014426]]\n",
      "Inspection cost - U1 Cost =  -2.8276919\n"
     ]
    }
   ],
   "source": [
    "#Calculation of utility-1\n",
    "#Using only the marginals where week and weather do not agree --- only that fruit is sent for inspection\n",
    "Bad_notagree_or_both0 = (40+48+47)/695\n",
    "print(Bad_notagree_or_both0)\n",
    "Good_notagree_or_both0 = (123+126+311)/695\n",
    "print(Good_notagree_or_both0)\n",
    "Bad_agree = 27/(27+278)\n",
    "Good_agree = 278/(27+278)\n",
    "\n",
    "#Cost for manual inspection = -10\n",
    "#print(np.where((data['inspector'] == 0),1,0).sum())\n",
    "#print(np.where((data['inspector'] == 1),1,0).sum())\n",
    "inspector_bad = np.where((data['inspector'] == 0),1,0).sum()/1000\n",
    "inspector_good = np.where((data['inspector'] == 1),1,0).sum()/1000\n",
    "\n",
    "inspector = [inspector_bad, inspector_good]\n",
    "weather_week_agree = np.array([[Bad_notagree_or_both0, Bad_agree],\n",
    "                               [Good_notagree_or_both0, Good_agree]])\n",
    "print(weather_week_agree)\n",
    "\n",
    "inspector_weather_week = np.transpose(np.multiply(np.transpose(weather_week_agree),inspector))\n",
    "print(inspector_weather_week)\n",
    "inspector_weather_week_marginal = np.sum(inspector_weather_week, axis = 0)\n",
    "\n",
    "#Compute U1 cost ---- only the fruit that is in disagreement is sent for inspection\n",
    "u1_cost = -10 * (0.1942446 + 0.08852459)\n",
    "print(\"Inspection cost - U1 Cost = \",u1_cost)"
   ]
  },
  {
   "cell_type": "code",
   "execution_count": 15,
   "metadata": {},
   "outputs": [
    {
     "name": "stdout",
     "output_type": "stream",
     "text": [
      "[[0.95584726 0.12345679]\n",
      " [0.04415274 0.87654321]]\n",
      "[0.10723703 0.89276297]\n",
      "17.331683481531574\n",
      "-5.336633036936858\n",
      "U3_Cost 11.995050444594716\n"
     ]
    }
   ],
   "source": [
    "#Compute U3\n",
    "print(Customer_quality)\n",
    "print(inspector_weather_week_marginal)\n",
    "\n",
    "customerAccep_GoodQuality_givenInspectorFinding = 20 * (CustomerAccep_given_GoodQuality * 0.89276297 + \\\n",
    "                                  CustomerAccep_given_BadQuality * 0.10723703)\n",
    "\n",
    "customerAccep_BadQuality_givenInspectorFinding = -40 * (CustomerNonAccep_given_GoodQuality * 0.89276297 + \\\n",
    "                                  CustomerNonAccep_given_BadQuality * 0.10723703)\n",
    "print(customerAccep_GoodQuality_givenInspectorFinding)\n",
    "print(customerAccep_BadQuality_givenInspectorFinding)\n",
    "print(\"U3_Cost = \", customerAccep_GoodQuality_givenInspectorFinding + customerAccep_BadQuality_givenInspectorFinding)"
   ]
  },
  {
   "cell_type": "code",
   "execution_count": 17,
   "metadata": {},
   "outputs": [
    {
     "name": "stdout",
     "output_type": "stream",
     "text": [
      "81\n",
      "10\n",
      "67\n",
      "4\n",
      "15\n",
      "214\n",
      "77\n",
      "532\n"
     ]
    }
   ],
   "source": [
    "#Sensor Inspect\n",
    "print(np.where(((data['smell_sensor'] == 0) & (data['visual_sensor'] == 0 ) & (data['good_bad'] == 0 )), 1, 0).sum())\n",
    "print(np.where(((data['smell_sensor'] == 0) & (data['visual_sensor'] == 1 ) & (data['good_bad'] == 0 )), 1, 0).sum())\n",
    "print(np.where(((data['smell_sensor'] == 1) & (data['visual_sensor'] == 0 ) & (data['good_bad'] == 0 )), 1, 0).sum())\n",
    "print(np.where(((data['smell_sensor'] == 1) & (data['visual_sensor'] == 1 ) & (data['good_bad'] == 0 )), 1, 0).sum())\n",
    "print(np.where(((data['smell_sensor'] == 0) & (data['visual_sensor'] == 0 ) & (data['good_bad'] == 1 )), 1, 0).sum())\n",
    "print(np.where(((data['smell_sensor'] == 0) & (data['visual_sensor'] == 1 ) & (data['good_bad'] == 1 )), 1, 0).sum())\n",
    "print(np.where(((data['smell_sensor'] == 1) & (data['visual_sensor'] == 0 ) & (data['good_bad'] == 1 )), 1, 0).sum())\n",
    "print(np.where(((data['smell_sensor'] == 1) & (data['visual_sensor'] == 1 ) & (data['good_bad'] == 1 )), 1, 0).sum())"
   ]
  },
  {
   "cell_type": "code",
   "execution_count": 25,
   "metadata": {},
   "outputs": [
    {
     "name": "stdout",
     "output_type": "stream",
     "text": [
      "0.19424460431654678\n",
      "0.8057553956834532\n",
      "[[0.34051724 0.00746269]\n",
      " [0.65948276 0.99253731]]\n",
      "[[0.06027155 0.0013209 ]\n",
      " [0.54275431 0.81685821]]\n",
      "[0.60302586 0.8181791 ]\n",
      "[0.42430605 0.57569395]\n",
      "12.053178900070716\n",
      "-15.893642199858569\n",
      "U4_Cost -3.840463299787853\n"
     ]
    }
   ],
   "source": [
    "SV_Bad_notagree_or_both0 = (81+10+67)/464\n",
    "print(Bad_notagree_or_both0)\n",
    "SV_Good_notagree_or_both0 = (15+214+77)/464\n",
    "print(Good_notagree_or_both0)\n",
    "SV_Bad_agree = 4/(4+532)\n",
    "SV_Good_agree = 532/(4+532)\n",
    "\n",
    "smell_visual_agree = np.array([[SV_Bad_notagree_or_both0, SV_Bad_agree],\n",
    "                               [SV_Good_notagree_or_both0, SV_Good_agree]])\n",
    "print(smell_visual_agree)\n",
    "inspector_smell_visual = np.transpose(np.multiply(np.transpose(smell_visual_agree),inspector))\n",
    "print(inspector_smell_visual)\n",
    "inspector_smell_visual_marginal = np.sum(inspector_smell_visual, axis = 0)\n",
    "print(inspector_smell_visual_marginal)\n",
    "#Normalize the marginals\n",
    "inspector_smell_visual_marginal = inspector_smell_visual_marginal/np.sum(inspector_smell_visual_marginal)\n",
    "print(inspector_smell_visual_marginal)\n",
    "\n",
    "#Compute U4\n",
    "\n",
    "customerAccep_GoodQuality_givenInspector_SVFinding = 20 * (CustomerAccep_given_GoodQuality * 0.57569395 + \\\n",
    "                                  CustomerAccep_given_BadQuality * 0.42430605)\n",
    "\n",
    "customerAccep_BadQuality_givenInspector_SVFinding = -40 * (CustomerNonAccep_given_GoodQuality * 0.57569395 + \\\n",
    "                                  CustomerNonAccep_given_BadQuality * 0.42430605)\n",
    "print(customerAccep_GoodQuality_givenInspector_SVFinding)\n",
    "print(customerAccep_BadQuality_givenInspector_SVFinding)\n",
    "print(\"U4_Cost = \", customerAccep_GoodQuality_givenInspector_SVFinding + customerAccep_BadQuality_givenInspector_SVFinding)\n",
    "\n"
   ]
  },
  {
   "cell_type": "code",
   "execution_count": null,
   "metadata": {},
   "outputs": [],
   "source": [
    "#U5\n",
    "\n"
   ]
  },
  {
   "cell_type": "code",
   "execution_count": null,
   "metadata": {},
   "outputs": [],
   "source": []
  }
 ],
 "metadata": {
  "kernelspec": {
   "display_name": "Python 3",
   "language": "python",
   "name": "python3"
  },
  "language_info": {
   "codemirror_mode": {
    "name": "ipython",
    "version": 3
   },
   "file_extension": ".py",
   "mimetype": "text/x-python",
   "name": "python",
   "nbconvert_exporter": "python",
   "pygments_lexer": "ipython3",
   "version": "3.6.4"
  }
 },
 "nbformat": 4,
 "nbformat_minor": 2
}
